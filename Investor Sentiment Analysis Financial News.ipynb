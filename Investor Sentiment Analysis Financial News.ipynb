{
 "cells": [
  {
   "cell_type": "code",
   "execution_count": 1,
   "id": "83e1e09a",
   "metadata": {},
   "outputs": [],
   "source": [
    "import pandas as pd\n",
    "import numpy as np"
   ]
  },
  {
   "cell_type": "code",
   "execution_count": 2,
   "id": "efe8b29c",
   "metadata": {},
   "outputs": [
    {
     "data": {
      "text/html": [
       "<div>\n",
       "<style scoped>\n",
       "    .dataframe tbody tr th:only-of-type {\n",
       "        vertical-align: middle;\n",
       "    }\n",
       "\n",
       "    .dataframe tbody tr th {\n",
       "        vertical-align: top;\n",
       "    }\n",
       "\n",
       "    .dataframe thead th {\n",
       "        text-align: right;\n",
       "    }\n",
       "</style>\n",
       "<table border=\"1\" class=\"dataframe\">\n",
       "  <thead>\n",
       "    <tr style=\"text-align: right;\">\n",
       "      <th></th>\n",
       "      <th>0</th>\n",
       "      <th>1</th>\n",
       "    </tr>\n",
       "  </thead>\n",
       "  <tbody>\n",
       "    <tr>\n",
       "      <th>0</th>\n",
       "      <td>neutral</td>\n",
       "      <td>According to Gran , the company has no plans t...</td>\n",
       "    </tr>\n",
       "    <tr>\n",
       "      <th>1</th>\n",
       "      <td>neutral</td>\n",
       "      <td>Technopolis plans to develop in stages an area...</td>\n",
       "    </tr>\n",
       "    <tr>\n",
       "      <th>2</th>\n",
       "      <td>negative</td>\n",
       "      <td>The international electronic industry company ...</td>\n",
       "    </tr>\n",
       "    <tr>\n",
       "      <th>3</th>\n",
       "      <td>positive</td>\n",
       "      <td>With the new production plant the company woul...</td>\n",
       "    </tr>\n",
       "    <tr>\n",
       "      <th>4</th>\n",
       "      <td>positive</td>\n",
       "      <td>According to the company 's updated strategy f...</td>\n",
       "    </tr>\n",
       "  </tbody>\n",
       "</table>\n",
       "</div>"
      ],
      "text/plain": [
       "          0                                                  1\n",
       "0   neutral  According to Gran , the company has no plans t...\n",
       "1   neutral  Technopolis plans to develop in stages an area...\n",
       "2  negative  The international electronic industry company ...\n",
       "3  positive  With the new production plant the company woul...\n",
       "4  positive  According to the company 's updated strategy f..."
      ]
     },
     "execution_count": 2,
     "metadata": {},
     "output_type": "execute_result"
    }
   ],
   "source": [
    "df = pd.read_csv(\"all-data.csv\", header=None, encoding='ISO-8859-1')\n",
    "df.head()"
   ]
  },
  {
   "cell_type": "code",
   "execution_count": 3,
   "id": "5286c634",
   "metadata": {},
   "outputs": [],
   "source": [
    "column_mapping = {0: \"Sentiment\", 1: \"News\"}  # Replace with your desired column names\n",
    "df = df.rename(columns=column_mapping)"
   ]
  },
  {
   "cell_type": "code",
   "execution_count": 4,
   "id": "080cb9b7",
   "metadata": {},
   "outputs": [
    {
     "data": {
      "text/html": [
       "<div>\n",
       "<style scoped>\n",
       "    .dataframe tbody tr th:only-of-type {\n",
       "        vertical-align: middle;\n",
       "    }\n",
       "\n",
       "    .dataframe tbody tr th {\n",
       "        vertical-align: top;\n",
       "    }\n",
       "\n",
       "    .dataframe thead th {\n",
       "        text-align: right;\n",
       "    }\n",
       "</style>\n",
       "<table border=\"1\" class=\"dataframe\">\n",
       "  <thead>\n",
       "    <tr style=\"text-align: right;\">\n",
       "      <th></th>\n",
       "      <th>Sentiment</th>\n",
       "      <th>News</th>\n",
       "    </tr>\n",
       "  </thead>\n",
       "  <tbody>\n",
       "    <tr>\n",
       "      <th>0</th>\n",
       "      <td>neutral</td>\n",
       "      <td>According to Gran , the company has no plans t...</td>\n",
       "    </tr>\n",
       "    <tr>\n",
       "      <th>1</th>\n",
       "      <td>neutral</td>\n",
       "      <td>Technopolis plans to develop in stages an area...</td>\n",
       "    </tr>\n",
       "    <tr>\n",
       "      <th>2</th>\n",
       "      <td>negative</td>\n",
       "      <td>The international electronic industry company ...</td>\n",
       "    </tr>\n",
       "    <tr>\n",
       "      <th>3</th>\n",
       "      <td>positive</td>\n",
       "      <td>With the new production plant the company woul...</td>\n",
       "    </tr>\n",
       "    <tr>\n",
       "      <th>4</th>\n",
       "      <td>positive</td>\n",
       "      <td>According to the company 's updated strategy f...</td>\n",
       "    </tr>\n",
       "  </tbody>\n",
       "</table>\n",
       "</div>"
      ],
      "text/plain": [
       "  Sentiment                                               News\n",
       "0   neutral  According to Gran , the company has no plans t...\n",
       "1   neutral  Technopolis plans to develop in stages an area...\n",
       "2  negative  The international electronic industry company ...\n",
       "3  positive  With the new production plant the company woul...\n",
       "4  positive  According to the company 's updated strategy f..."
      ]
     },
     "execution_count": 4,
     "metadata": {},
     "output_type": "execute_result"
    }
   ],
   "source": [
    "df.head()"
   ]
  },
  {
   "cell_type": "code",
   "execution_count": 5,
   "id": "8ff3e8f1",
   "metadata": {},
   "outputs": [],
   "source": [
    "from sentence_transformers import SentenceTransformer\n",
    "model = SentenceTransformer('all-MiniLM-L6-v2')"
   ]
  },
  {
   "cell_type": "code",
   "execution_count": 6,
   "id": "d9d88ddf",
   "metadata": {},
   "outputs": [],
   "source": [
    "sentences = df[\"News\"]"
   ]
  },
  {
   "cell_type": "code",
   "execution_count": 7,
   "id": "faf27f14",
   "metadata": {},
   "outputs": [],
   "source": [
    "embeddings = model.encode(sentences)"
   ]
  },
  {
   "cell_type": "code",
   "execution_count": 8,
   "id": "fe4f14f5",
   "metadata": {},
   "outputs": [
    {
     "name": "stdout",
     "output_type": "stream",
     "text": [
      "Technopolis plans to develop in stages an area of no less than 100,000 square meters in order to host companies working in computer technologies and telecommunications , the statement said .\n",
      "(384,)\n"
     ]
    }
   ],
   "source": [
    "print(sentences[1])\n",
    "print(embeddings[1].shape)"
   ]
  },
  {
   "cell_type": "code",
   "execution_count": 9,
   "id": "49fc5632",
   "metadata": {},
   "outputs": [],
   "source": [
    "embedding_df = pd.DataFrame(embeddings, columns=[f'embedding_{i+1}' for i in range(embeddings.shape[1])])"
   ]
  },
  {
   "cell_type": "code",
   "execution_count": 10,
   "id": "aa34c904",
   "metadata": {},
   "outputs": [
    {
     "data": {
      "text/html": [
       "<div>\n",
       "<style scoped>\n",
       "    .dataframe tbody tr th:only-of-type {\n",
       "        vertical-align: middle;\n",
       "    }\n",
       "\n",
       "    .dataframe tbody tr th {\n",
       "        vertical-align: top;\n",
       "    }\n",
       "\n",
       "    .dataframe thead th {\n",
       "        text-align: right;\n",
       "    }\n",
       "</style>\n",
       "<table border=\"1\" class=\"dataframe\">\n",
       "  <thead>\n",
       "    <tr style=\"text-align: right;\">\n",
       "      <th></th>\n",
       "      <th>embedding_1</th>\n",
       "      <th>embedding_2</th>\n",
       "      <th>embedding_3</th>\n",
       "      <th>embedding_4</th>\n",
       "      <th>embedding_5</th>\n",
       "      <th>embedding_6</th>\n",
       "      <th>embedding_7</th>\n",
       "      <th>embedding_8</th>\n",
       "      <th>embedding_9</th>\n",
       "      <th>embedding_10</th>\n",
       "      <th>...</th>\n",
       "      <th>embedding_375</th>\n",
       "      <th>embedding_376</th>\n",
       "      <th>embedding_377</th>\n",
       "      <th>embedding_378</th>\n",
       "      <th>embedding_379</th>\n",
       "      <th>embedding_380</th>\n",
       "      <th>embedding_381</th>\n",
       "      <th>embedding_382</th>\n",
       "      <th>embedding_383</th>\n",
       "      <th>embedding_384</th>\n",
       "    </tr>\n",
       "  </thead>\n",
       "  <tbody>\n",
       "    <tr>\n",
       "      <th>0</th>\n",
       "      <td>0.033103</td>\n",
       "      <td>-0.100423</td>\n",
       "      <td>-0.005485</td>\n",
       "      <td>-0.066260</td>\n",
       "      <td>0.018836</td>\n",
       "      <td>-0.031824</td>\n",
       "      <td>-0.035340</td>\n",
       "      <td>-0.077344</td>\n",
       "      <td>-0.009411</td>\n",
       "      <td>-0.007487</td>\n",
       "      <td>...</td>\n",
       "      <td>-0.022584</td>\n",
       "      <td>0.069428</td>\n",
       "      <td>0.011990</td>\n",
       "      <td>-0.089813</td>\n",
       "      <td>0.018476</td>\n",
       "      <td>-0.019637</td>\n",
       "      <td>-0.018754</td>\n",
       "      <td>-0.127873</td>\n",
       "      <td>0.009407</td>\n",
       "      <td>-0.022025</td>\n",
       "    </tr>\n",
       "    <tr>\n",
       "      <th>1</th>\n",
       "      <td>0.084485</td>\n",
       "      <td>0.030830</td>\n",
       "      <td>-0.002329</td>\n",
       "      <td>-0.056259</td>\n",
       "      <td>-0.113815</td>\n",
       "      <td>-0.121623</td>\n",
       "      <td>-0.061220</td>\n",
       "      <td>0.055847</td>\n",
       "      <td>-0.064939</td>\n",
       "      <td>0.021643</td>\n",
       "      <td>...</td>\n",
       "      <td>0.060081</td>\n",
       "      <td>0.006366</td>\n",
       "      <td>-0.040411</td>\n",
       "      <td>-0.021518</td>\n",
       "      <td>-0.055036</td>\n",
       "      <td>0.037341</td>\n",
       "      <td>-0.034406</td>\n",
       "      <td>0.047268</td>\n",
       "      <td>0.056127</td>\n",
       "      <td>-0.001998</td>\n",
       "    </tr>\n",
       "    <tr>\n",
       "      <th>2</th>\n",
       "      <td>0.043609</td>\n",
       "      <td>0.004894</td>\n",
       "      <td>0.004905</td>\n",
       "      <td>0.040851</td>\n",
       "      <td>-0.046114</td>\n",
       "      <td>0.062376</td>\n",
       "      <td>-0.028048</td>\n",
       "      <td>-0.046857</td>\n",
       "      <td>-0.038051</td>\n",
       "      <td>-0.068427</td>\n",
       "      <td>...</td>\n",
       "      <td>0.015348</td>\n",
       "      <td>-0.097364</td>\n",
       "      <td>0.010314</td>\n",
       "      <td>0.016644</td>\n",
       "      <td>0.062900</td>\n",
       "      <td>-0.012047</td>\n",
       "      <td>-0.049860</td>\n",
       "      <td>-0.020716</td>\n",
       "      <td>0.020335</td>\n",
       "      <td>0.038261</td>\n",
       "    </tr>\n",
       "    <tr>\n",
       "      <th>3</th>\n",
       "      <td>-0.067166</td>\n",
       "      <td>-0.029139</td>\n",
       "      <td>-0.037931</td>\n",
       "      <td>-0.010632</td>\n",
       "      <td>0.047564</td>\n",
       "      <td>-0.011515</td>\n",
       "      <td>-0.073900</td>\n",
       "      <td>0.040631</td>\n",
       "      <td>-0.057157</td>\n",
       "      <td>0.001864</td>\n",
       "      <td>...</td>\n",
       "      <td>0.068182</td>\n",
       "      <td>0.043284</td>\n",
       "      <td>-0.001184</td>\n",
       "      <td>0.050133</td>\n",
       "      <td>-0.001276</td>\n",
       "      <td>0.048531</td>\n",
       "      <td>-0.034414</td>\n",
       "      <td>-0.071167</td>\n",
       "      <td>0.079625</td>\n",
       "      <td>-0.017603</td>\n",
       "    </tr>\n",
       "    <tr>\n",
       "      <th>4</th>\n",
       "      <td>-0.021902</td>\n",
       "      <td>-0.022826</td>\n",
       "      <td>0.011935</td>\n",
       "      <td>-0.058745</td>\n",
       "      <td>-0.037734</td>\n",
       "      <td>0.007767</td>\n",
       "      <td>-0.022633</td>\n",
       "      <td>0.066558</td>\n",
       "      <td>-0.011591</td>\n",
       "      <td>0.004221</td>\n",
       "      <td>...</td>\n",
       "      <td>0.011690</td>\n",
       "      <td>-0.047741</td>\n",
       "      <td>-0.072852</td>\n",
       "      <td>-0.009161</td>\n",
       "      <td>0.004916</td>\n",
       "      <td>0.062899</td>\n",
       "      <td>0.002259</td>\n",
       "      <td>-0.126716</td>\n",
       "      <td>-0.077100</td>\n",
       "      <td>0.065531</td>\n",
       "    </tr>\n",
       "    <tr>\n",
       "      <th>...</th>\n",
       "      <td>...</td>\n",
       "      <td>...</td>\n",
       "      <td>...</td>\n",
       "      <td>...</td>\n",
       "      <td>...</td>\n",
       "      <td>...</td>\n",
       "      <td>...</td>\n",
       "      <td>...</td>\n",
       "      <td>...</td>\n",
       "      <td>...</td>\n",
       "      <td>...</td>\n",
       "      <td>...</td>\n",
       "      <td>...</td>\n",
       "      <td>...</td>\n",
       "      <td>...</td>\n",
       "      <td>...</td>\n",
       "      <td>...</td>\n",
       "      <td>...</td>\n",
       "      <td>...</td>\n",
       "      <td>...</td>\n",
       "      <td>...</td>\n",
       "    </tr>\n",
       "    <tr>\n",
       "      <th>4841</th>\n",
       "      <td>0.037514</td>\n",
       "      <td>-0.031628</td>\n",
       "      <td>0.114416</td>\n",
       "      <td>0.060084</td>\n",
       "      <td>0.015975</td>\n",
       "      <td>0.017323</td>\n",
       "      <td>-0.006961</td>\n",
       "      <td>-0.023695</td>\n",
       "      <td>-0.019650</td>\n",
       "      <td>-0.032931</td>\n",
       "      <td>...</td>\n",
       "      <td>-0.047153</td>\n",
       "      <td>-0.036253</td>\n",
       "      <td>-0.089335</td>\n",
       "      <td>0.063155</td>\n",
       "      <td>-0.114799</td>\n",
       "      <td>-0.068349</td>\n",
       "      <td>-0.031357</td>\n",
       "      <td>-0.059850</td>\n",
       "      <td>-0.199711</td>\n",
       "      <td>0.050612</td>\n",
       "    </tr>\n",
       "    <tr>\n",
       "      <th>4842</th>\n",
       "      <td>-0.010111</td>\n",
       "      <td>0.053529</td>\n",
       "      <td>-0.115659</td>\n",
       "      <td>-0.004243</td>\n",
       "      <td>-0.012975</td>\n",
       "      <td>-0.027198</td>\n",
       "      <td>0.014351</td>\n",
       "      <td>0.099848</td>\n",
       "      <td>0.016810</td>\n",
       "      <td>-0.004626</td>\n",
       "      <td>...</td>\n",
       "      <td>0.019655</td>\n",
       "      <td>-0.046397</td>\n",
       "      <td>-0.043783</td>\n",
       "      <td>-0.015527</td>\n",
       "      <td>-0.046047</td>\n",
       "      <td>-0.086482</td>\n",
       "      <td>-0.066512</td>\n",
       "      <td>-0.062369</td>\n",
       "      <td>-0.044434</td>\n",
       "      <td>0.001449</td>\n",
       "    </tr>\n",
       "    <tr>\n",
       "      <th>4843</th>\n",
       "      <td>0.044477</td>\n",
       "      <td>0.030813</td>\n",
       "      <td>0.068884</td>\n",
       "      <td>0.047986</td>\n",
       "      <td>-0.002873</td>\n",
       "      <td>-0.025707</td>\n",
       "      <td>-0.078903</td>\n",
       "      <td>0.112590</td>\n",
       "      <td>-0.039120</td>\n",
       "      <td>0.016103</td>\n",
       "      <td>...</td>\n",
       "      <td>0.064868</td>\n",
       "      <td>-0.009705</td>\n",
       "      <td>-0.028710</td>\n",
       "      <td>0.066628</td>\n",
       "      <td>-0.104506</td>\n",
       "      <td>-0.023398</td>\n",
       "      <td>-0.102364</td>\n",
       "      <td>-0.062642</td>\n",
       "      <td>-0.026184</td>\n",
       "      <td>0.003788</td>\n",
       "    </tr>\n",
       "    <tr>\n",
       "      <th>4844</th>\n",
       "      <td>-0.040445</td>\n",
       "      <td>-0.003198</td>\n",
       "      <td>0.065040</td>\n",
       "      <td>0.009511</td>\n",
       "      <td>0.013660</td>\n",
       "      <td>0.024086</td>\n",
       "      <td>-0.078426</td>\n",
       "      <td>0.112104</td>\n",
       "      <td>0.038359</td>\n",
       "      <td>-0.006200</td>\n",
       "      <td>...</td>\n",
       "      <td>0.021573</td>\n",
       "      <td>-0.046804</td>\n",
       "      <td>-0.040203</td>\n",
       "      <td>0.002362</td>\n",
       "      <td>-0.084330</td>\n",
       "      <td>0.068363</td>\n",
       "      <td>-0.033828</td>\n",
       "      <td>-0.067488</td>\n",
       "      <td>-0.045671</td>\n",
       "      <td>-0.021801</td>\n",
       "    </tr>\n",
       "    <tr>\n",
       "      <th>4845</th>\n",
       "      <td>0.034151</td>\n",
       "      <td>0.033816</td>\n",
       "      <td>0.015101</td>\n",
       "      <td>-0.015382</td>\n",
       "      <td>0.041003</td>\n",
       "      <td>0.032181</td>\n",
       "      <td>-0.067917</td>\n",
       "      <td>0.076618</td>\n",
       "      <td>0.032881</td>\n",
       "      <td>-0.004349</td>\n",
       "      <td>...</td>\n",
       "      <td>-0.075085</td>\n",
       "      <td>-0.003974</td>\n",
       "      <td>0.024613</td>\n",
       "      <td>0.000273</td>\n",
       "      <td>-0.060343</td>\n",
       "      <td>0.029984</td>\n",
       "      <td>-0.060569</td>\n",
       "      <td>-0.061905</td>\n",
       "      <td>-0.046788</td>\n",
       "      <td>0.039337</td>\n",
       "    </tr>\n",
       "  </tbody>\n",
       "</table>\n",
       "<p>4846 rows × 384 columns</p>\n",
       "</div>"
      ],
      "text/plain": [
       "      embedding_1  embedding_2  embedding_3  embedding_4  embedding_5  \\\n",
       "0        0.033103    -0.100423    -0.005485    -0.066260     0.018836   \n",
       "1        0.084485     0.030830    -0.002329    -0.056259    -0.113815   \n",
       "2        0.043609     0.004894     0.004905     0.040851    -0.046114   \n",
       "3       -0.067166    -0.029139    -0.037931    -0.010632     0.047564   \n",
       "4       -0.021902    -0.022826     0.011935    -0.058745    -0.037734   \n",
       "...           ...          ...          ...          ...          ...   \n",
       "4841     0.037514    -0.031628     0.114416     0.060084     0.015975   \n",
       "4842    -0.010111     0.053529    -0.115659    -0.004243    -0.012975   \n",
       "4843     0.044477     0.030813     0.068884     0.047986    -0.002873   \n",
       "4844    -0.040445    -0.003198     0.065040     0.009511     0.013660   \n",
       "4845     0.034151     0.033816     0.015101    -0.015382     0.041003   \n",
       "\n",
       "      embedding_6  embedding_7  embedding_8  embedding_9  embedding_10  ...  \\\n",
       "0       -0.031824    -0.035340    -0.077344    -0.009411     -0.007487  ...   \n",
       "1       -0.121623    -0.061220     0.055847    -0.064939      0.021643  ...   \n",
       "2        0.062376    -0.028048    -0.046857    -0.038051     -0.068427  ...   \n",
       "3       -0.011515    -0.073900     0.040631    -0.057157      0.001864  ...   \n",
       "4        0.007767    -0.022633     0.066558    -0.011591      0.004221  ...   \n",
       "...           ...          ...          ...          ...           ...  ...   \n",
       "4841     0.017323    -0.006961    -0.023695    -0.019650     -0.032931  ...   \n",
       "4842    -0.027198     0.014351     0.099848     0.016810     -0.004626  ...   \n",
       "4843    -0.025707    -0.078903     0.112590    -0.039120      0.016103  ...   \n",
       "4844     0.024086    -0.078426     0.112104     0.038359     -0.006200  ...   \n",
       "4845     0.032181    -0.067917     0.076618     0.032881     -0.004349  ...   \n",
       "\n",
       "      embedding_375  embedding_376  embedding_377  embedding_378  \\\n",
       "0         -0.022584       0.069428       0.011990      -0.089813   \n",
       "1          0.060081       0.006366      -0.040411      -0.021518   \n",
       "2          0.015348      -0.097364       0.010314       0.016644   \n",
       "3          0.068182       0.043284      -0.001184       0.050133   \n",
       "4          0.011690      -0.047741      -0.072852      -0.009161   \n",
       "...             ...            ...            ...            ...   \n",
       "4841      -0.047153      -0.036253      -0.089335       0.063155   \n",
       "4842       0.019655      -0.046397      -0.043783      -0.015527   \n",
       "4843       0.064868      -0.009705      -0.028710       0.066628   \n",
       "4844       0.021573      -0.046804      -0.040203       0.002362   \n",
       "4845      -0.075085      -0.003974       0.024613       0.000273   \n",
       "\n",
       "      embedding_379  embedding_380  embedding_381  embedding_382  \\\n",
       "0          0.018476      -0.019637      -0.018754      -0.127873   \n",
       "1         -0.055036       0.037341      -0.034406       0.047268   \n",
       "2          0.062900      -0.012047      -0.049860      -0.020716   \n",
       "3         -0.001276       0.048531      -0.034414      -0.071167   \n",
       "4          0.004916       0.062899       0.002259      -0.126716   \n",
       "...             ...            ...            ...            ...   \n",
       "4841      -0.114799      -0.068349      -0.031357      -0.059850   \n",
       "4842      -0.046047      -0.086482      -0.066512      -0.062369   \n",
       "4843      -0.104506      -0.023398      -0.102364      -0.062642   \n",
       "4844      -0.084330       0.068363      -0.033828      -0.067488   \n",
       "4845      -0.060343       0.029984      -0.060569      -0.061905   \n",
       "\n",
       "      embedding_383  embedding_384  \n",
       "0          0.009407      -0.022025  \n",
       "1          0.056127      -0.001998  \n",
       "2          0.020335       0.038261  \n",
       "3          0.079625      -0.017603  \n",
       "4         -0.077100       0.065531  \n",
       "...             ...            ...  \n",
       "4841      -0.199711       0.050612  \n",
       "4842      -0.044434       0.001449  \n",
       "4843      -0.026184       0.003788  \n",
       "4844      -0.045671      -0.021801  \n",
       "4845      -0.046788       0.039337  \n",
       "\n",
       "[4846 rows x 384 columns]"
      ]
     },
     "execution_count": 10,
     "metadata": {},
     "output_type": "execute_result"
    }
   ],
   "source": [
    "embedding_df"
   ]
  },
  {
   "cell_type": "code",
   "execution_count": 11,
   "id": "6b99e5c0",
   "metadata": {},
   "outputs": [],
   "source": [
    "embedding_df[\"Sentiment\"] = df[\"Sentiment\"]"
   ]
  },
  {
   "cell_type": "code",
   "execution_count": 12,
   "id": "99717512",
   "metadata": {},
   "outputs": [
    {
     "data": {
      "text/html": [
       "<div>\n",
       "<style scoped>\n",
       "    .dataframe tbody tr th:only-of-type {\n",
       "        vertical-align: middle;\n",
       "    }\n",
       "\n",
       "    .dataframe tbody tr th {\n",
       "        vertical-align: top;\n",
       "    }\n",
       "\n",
       "    .dataframe thead th {\n",
       "        text-align: right;\n",
       "    }\n",
       "</style>\n",
       "<table border=\"1\" class=\"dataframe\">\n",
       "  <thead>\n",
       "    <tr style=\"text-align: right;\">\n",
       "      <th></th>\n",
       "      <th>embedding_1</th>\n",
       "      <th>embedding_2</th>\n",
       "      <th>embedding_3</th>\n",
       "      <th>embedding_4</th>\n",
       "      <th>embedding_5</th>\n",
       "      <th>embedding_6</th>\n",
       "      <th>embedding_7</th>\n",
       "      <th>embedding_8</th>\n",
       "      <th>embedding_9</th>\n",
       "      <th>embedding_10</th>\n",
       "      <th>...</th>\n",
       "      <th>embedding_376</th>\n",
       "      <th>embedding_377</th>\n",
       "      <th>embedding_378</th>\n",
       "      <th>embedding_379</th>\n",
       "      <th>embedding_380</th>\n",
       "      <th>embedding_381</th>\n",
       "      <th>embedding_382</th>\n",
       "      <th>embedding_383</th>\n",
       "      <th>embedding_384</th>\n",
       "      <th>Sentiment</th>\n",
       "    </tr>\n",
       "  </thead>\n",
       "  <tbody>\n",
       "    <tr>\n",
       "      <th>0</th>\n",
       "      <td>0.033103</td>\n",
       "      <td>-0.100423</td>\n",
       "      <td>-0.005485</td>\n",
       "      <td>-0.066260</td>\n",
       "      <td>0.018836</td>\n",
       "      <td>-0.031824</td>\n",
       "      <td>-0.035340</td>\n",
       "      <td>-0.077344</td>\n",
       "      <td>-0.009411</td>\n",
       "      <td>-0.007487</td>\n",
       "      <td>...</td>\n",
       "      <td>0.069428</td>\n",
       "      <td>0.011990</td>\n",
       "      <td>-0.089813</td>\n",
       "      <td>0.018476</td>\n",
       "      <td>-0.019637</td>\n",
       "      <td>-0.018754</td>\n",
       "      <td>-0.127873</td>\n",
       "      <td>0.009407</td>\n",
       "      <td>-0.022025</td>\n",
       "      <td>neutral</td>\n",
       "    </tr>\n",
       "    <tr>\n",
       "      <th>1</th>\n",
       "      <td>0.084485</td>\n",
       "      <td>0.030830</td>\n",
       "      <td>-0.002329</td>\n",
       "      <td>-0.056259</td>\n",
       "      <td>-0.113815</td>\n",
       "      <td>-0.121623</td>\n",
       "      <td>-0.061220</td>\n",
       "      <td>0.055847</td>\n",
       "      <td>-0.064939</td>\n",
       "      <td>0.021643</td>\n",
       "      <td>...</td>\n",
       "      <td>0.006366</td>\n",
       "      <td>-0.040411</td>\n",
       "      <td>-0.021518</td>\n",
       "      <td>-0.055036</td>\n",
       "      <td>0.037341</td>\n",
       "      <td>-0.034406</td>\n",
       "      <td>0.047268</td>\n",
       "      <td>0.056127</td>\n",
       "      <td>-0.001998</td>\n",
       "      <td>neutral</td>\n",
       "    </tr>\n",
       "    <tr>\n",
       "      <th>2</th>\n",
       "      <td>0.043609</td>\n",
       "      <td>0.004894</td>\n",
       "      <td>0.004905</td>\n",
       "      <td>0.040851</td>\n",
       "      <td>-0.046114</td>\n",
       "      <td>0.062376</td>\n",
       "      <td>-0.028048</td>\n",
       "      <td>-0.046857</td>\n",
       "      <td>-0.038051</td>\n",
       "      <td>-0.068427</td>\n",
       "      <td>...</td>\n",
       "      <td>-0.097364</td>\n",
       "      <td>0.010314</td>\n",
       "      <td>0.016644</td>\n",
       "      <td>0.062900</td>\n",
       "      <td>-0.012047</td>\n",
       "      <td>-0.049860</td>\n",
       "      <td>-0.020716</td>\n",
       "      <td>0.020335</td>\n",
       "      <td>0.038261</td>\n",
       "      <td>negative</td>\n",
       "    </tr>\n",
       "    <tr>\n",
       "      <th>3</th>\n",
       "      <td>-0.067166</td>\n",
       "      <td>-0.029139</td>\n",
       "      <td>-0.037931</td>\n",
       "      <td>-0.010632</td>\n",
       "      <td>0.047564</td>\n",
       "      <td>-0.011515</td>\n",
       "      <td>-0.073900</td>\n",
       "      <td>0.040631</td>\n",
       "      <td>-0.057157</td>\n",
       "      <td>0.001864</td>\n",
       "      <td>...</td>\n",
       "      <td>0.043284</td>\n",
       "      <td>-0.001184</td>\n",
       "      <td>0.050133</td>\n",
       "      <td>-0.001276</td>\n",
       "      <td>0.048531</td>\n",
       "      <td>-0.034414</td>\n",
       "      <td>-0.071167</td>\n",
       "      <td>0.079625</td>\n",
       "      <td>-0.017603</td>\n",
       "      <td>positive</td>\n",
       "    </tr>\n",
       "    <tr>\n",
       "      <th>4</th>\n",
       "      <td>-0.021902</td>\n",
       "      <td>-0.022826</td>\n",
       "      <td>0.011935</td>\n",
       "      <td>-0.058745</td>\n",
       "      <td>-0.037734</td>\n",
       "      <td>0.007767</td>\n",
       "      <td>-0.022633</td>\n",
       "      <td>0.066558</td>\n",
       "      <td>-0.011591</td>\n",
       "      <td>0.004221</td>\n",
       "      <td>...</td>\n",
       "      <td>-0.047741</td>\n",
       "      <td>-0.072852</td>\n",
       "      <td>-0.009161</td>\n",
       "      <td>0.004916</td>\n",
       "      <td>0.062899</td>\n",
       "      <td>0.002259</td>\n",
       "      <td>-0.126716</td>\n",
       "      <td>-0.077100</td>\n",
       "      <td>0.065531</td>\n",
       "      <td>positive</td>\n",
       "    </tr>\n",
       "  </tbody>\n",
       "</table>\n",
       "<p>5 rows × 385 columns</p>\n",
       "</div>"
      ],
      "text/plain": [
       "   embedding_1  embedding_2  embedding_3  embedding_4  embedding_5  \\\n",
       "0     0.033103    -0.100423    -0.005485    -0.066260     0.018836   \n",
       "1     0.084485     0.030830    -0.002329    -0.056259    -0.113815   \n",
       "2     0.043609     0.004894     0.004905     0.040851    -0.046114   \n",
       "3    -0.067166    -0.029139    -0.037931    -0.010632     0.047564   \n",
       "4    -0.021902    -0.022826     0.011935    -0.058745    -0.037734   \n",
       "\n",
       "   embedding_6  embedding_7  embedding_8  embedding_9  embedding_10  ...  \\\n",
       "0    -0.031824    -0.035340    -0.077344    -0.009411     -0.007487  ...   \n",
       "1    -0.121623    -0.061220     0.055847    -0.064939      0.021643  ...   \n",
       "2     0.062376    -0.028048    -0.046857    -0.038051     -0.068427  ...   \n",
       "3    -0.011515    -0.073900     0.040631    -0.057157      0.001864  ...   \n",
       "4     0.007767    -0.022633     0.066558    -0.011591      0.004221  ...   \n",
       "\n",
       "   embedding_376  embedding_377  embedding_378  embedding_379  embedding_380  \\\n",
       "0       0.069428       0.011990      -0.089813       0.018476      -0.019637   \n",
       "1       0.006366      -0.040411      -0.021518      -0.055036       0.037341   \n",
       "2      -0.097364       0.010314       0.016644       0.062900      -0.012047   \n",
       "3       0.043284      -0.001184       0.050133      -0.001276       0.048531   \n",
       "4      -0.047741      -0.072852      -0.009161       0.004916       0.062899   \n",
       "\n",
       "   embedding_381  embedding_382  embedding_383  embedding_384  Sentiment  \n",
       "0      -0.018754      -0.127873       0.009407      -0.022025    neutral  \n",
       "1      -0.034406       0.047268       0.056127      -0.001998    neutral  \n",
       "2      -0.049860      -0.020716       0.020335       0.038261   negative  \n",
       "3      -0.034414      -0.071167       0.079625      -0.017603   positive  \n",
       "4       0.002259      -0.126716      -0.077100       0.065531   positive  \n",
       "\n",
       "[5 rows x 385 columns]"
      ]
     },
     "execution_count": 12,
     "metadata": {},
     "output_type": "execute_result"
    }
   ],
   "source": [
    "embedding_df.head()"
   ]
  },
  {
   "cell_type": "code",
   "execution_count": 13,
   "id": "7d05ef1e",
   "metadata": {},
   "outputs": [],
   "source": [
    "X = embedding_df.drop([\"Sentiment\"], axis = 1)"
   ]
  },
  {
   "cell_type": "code",
   "execution_count": 14,
   "id": "dd2019be",
   "metadata": {},
   "outputs": [],
   "source": [
    "y = embedding_df[\"Sentiment\"]"
   ]
  },
  {
   "cell_type": "code",
   "execution_count": 15,
   "id": "911954f6",
   "metadata": {},
   "outputs": [],
   "source": [
    "from sklearn.preprocessing import LabelEncoder"
   ]
  },
  {
   "cell_type": "code",
   "execution_count": 16,
   "id": "4e74a861",
   "metadata": {},
   "outputs": [],
   "source": [
    "lbe = LabelEncoder()"
   ]
  },
  {
   "cell_type": "code",
   "execution_count": 17,
   "id": "d9d2655c",
   "metadata": {},
   "outputs": [],
   "source": [
    "y_encoded = lbe.fit_transform(y)"
   ]
  },
  {
   "cell_type": "code",
   "execution_count": 18,
   "id": "f9cd0fb9",
   "metadata": {},
   "outputs": [
    {
     "data": {
      "text/plain": [
       "array([1, 1, 0, 2, 2])"
      ]
     },
     "execution_count": 18,
     "metadata": {},
     "output_type": "execute_result"
    }
   ],
   "source": [
    "y_encoded[:5]"
   ]
  },
  {
   "cell_type": "code",
   "execution_count": 19,
   "id": "8d38d317",
   "metadata": {},
   "outputs": [],
   "source": [
    "from sklearn.model_selection import train_test_split\n",
    "from sklearn.tree import DecisionTreeClassifier\n",
    "from sklearn.ensemble import RandomForestClassifier\n",
    "from sklearn.metrics import accuracy_score, classification_report, f1_score, precision_recall_curve"
   ]
  },
  {
   "cell_type": "code",
   "execution_count": 20,
   "id": "d7d2b3e2",
   "metadata": {},
   "outputs": [
    {
     "data": {
      "text/plain": [
       "1363"
      ]
     },
     "execution_count": 20,
     "metadata": {},
     "output_type": "execute_result"
    }
   ],
   "source": [
    "sum(y_encoded == 2)"
   ]
  },
  {
   "cell_type": "code",
   "execution_count": 21,
   "id": "86b1931b",
   "metadata": {},
   "outputs": [
    {
     "data": {
      "text/plain": [
       "2879"
      ]
     },
     "execution_count": 21,
     "metadata": {},
     "output_type": "execute_result"
    }
   ],
   "source": [
    "sum(y_encoded == 1)"
   ]
  },
  {
   "cell_type": "code",
   "execution_count": 22,
   "id": "8b86cc6a",
   "metadata": {},
   "outputs": [
    {
     "data": {
      "text/plain": [
       "604"
      ]
     },
     "execution_count": 22,
     "metadata": {},
     "output_type": "execute_result"
    }
   ],
   "source": [
    "sum(y_encoded == 0)"
   ]
  },
  {
   "cell_type": "code",
   "execution_count": 23,
   "id": "2bdf231a",
   "metadata": {},
   "outputs": [],
   "source": [
    "#handlingimbalanced dataset (Ex: churn prediction, device failure, cancer prediction)\n",
    "#https://www.youtube.com/watch?v=JnlM4yLFNuo\n",
    "# 1. undersampling majority class\n",
    "# 2. oversampling minority class by duplication\n",
    "# 3. oversampling minority class by SMOTE (synthetic examples using k nearest neighbors)\n",
    "# 4. ensemble (3000 in class 1 and 1000 in class 2, create three models with 1000 in each class and then \n",
    "#take majority vote of predictions made by the 3 models)\n",
    "# 5. focal loss (penalize majority class during loss calculation and give more weight to minority class samples)\n",
    "X_train, X_test, y_train, y_test = train_test_split(X, y, test_size=0.2, random_state=42)"
   ]
  },
  {
   "cell_type": "code",
   "execution_count": 24,
   "id": "cd045f70",
   "metadata": {},
   "outputs": [
    {
     "name": "stdout",
     "output_type": "stream",
     "text": [
      "Accuracy: 0.5762886597938144\n",
      "Classification Report\n",
      "              precision    recall  f1-score   support\n",
      "\n",
      "    negative       0.43      0.41      0.42       110\n",
      "     neutral       0.67      0.70      0.69       571\n",
      "    positive       0.42      0.40      0.41       289\n",
      "\n",
      "    accuracy                           0.58       970\n",
      "   macro avg       0.51      0.50      0.51       970\n",
      "weighted avg       0.57      0.58      0.57       970\n",
      "\n"
     ]
    }
   ],
   "source": [
    "clf = DecisionTreeClassifier(class_weight='balanced')\n",
    "clf.fit(X_train, y_train)\n",
    "\n",
    "# Make predictions\n",
    "y_pred = clf.predict(X_test)\n",
    "\n",
    "# Evaluate the model\n",
    "accuracy = accuracy_score(y_test, y_pred)\n",
    "print(f\"Accuracy: {accuracy}\")\n",
    "print(\"Classification Report\")\n",
    "print(classification_report(y_test, y_pred))"
   ]
  },
  {
   "cell_type": "code",
   "execution_count": 25,
   "id": "d829b5dd",
   "metadata": {},
   "outputs": [
    {
     "name": "stdout",
     "output_type": "stream",
     "text": [
      "Accuracy: 0.7082474226804124\n",
      "Classification Report\n",
      "              precision    recall  f1-score   support\n",
      "\n",
      "    negative       0.93      0.45      0.61       110\n",
      "     neutral       0.68      0.99      0.81       571\n",
      "    positive       0.86      0.25      0.39       289\n",
      "\n",
      "    accuracy                           0.71       970\n",
      "   macro avg       0.82      0.56      0.60       970\n",
      "weighted avg       0.76      0.71      0.66       970\n",
      "\n"
     ]
    }
   ],
   "source": [
    "clf = RandomForestClassifier(class_weight='balanced', random_state=1)\n",
    "clf.fit(X_train, y_train)\n",
    "\n",
    "# Make predictions\n",
    "y_pred = clf.predict(X_test)\n",
    "\n",
    "# Evaluate the model\n",
    "accuracy = accuracy_score(y_test, y_pred)\n",
    "print(f\"Accuracy: {accuracy}\")\n",
    "print(\"Classification Report\")\n",
    "print(classification_report(y_test, y_pred))"
   ]
  },
  {
   "cell_type": "code",
   "execution_count": 26,
   "id": "337410f2",
   "metadata": {},
   "outputs": [
    {
     "name": "stderr",
     "output_type": "stream",
     "text": [
      "/Users/raghavraahul/anaconda3/lib/python3.11/site-packages/sklearn/base.py:439: UserWarning: X does not have valid feature names, but RandomForestClassifier was fitted with feature names\n",
      "  warnings.warn(\n"
     ]
    },
    {
     "data": {
      "text/plain": [
       "'neutral'"
      ]
     },
     "execution_count": 26,
     "metadata": {},
     "output_type": "execute_result"
    }
   ],
   "source": [
    "text = \"This is amazing\"\n",
    "emb = model.encode(text)\n",
    "clf.predict(emb.reshape(1,-1))[0]\n",
    "#In summary, (1, -1) is used when you want to reshape your array to have one row \n",
    "#and the number of columns inferred based on the size of the original array. \n",
    "#It doesn't transpose the array; it just changes its shape."
   ]
  },
  {
   "cell_type": "code",
   "execution_count": 27,
   "id": "fd530567",
   "metadata": {},
   "outputs": [],
   "source": [
    "from sklearn.model_selection import GridSearchCV\n",
    "from sklearn.model_selection import RandomizedSearchCV\n",
    "from sklearn.metrics import accuracy_score, make_scorer\n"
   ]
  },
  {
   "cell_type": "code",
   "execution_count": 28,
   "id": "f4e3ea7e",
   "metadata": {},
   "outputs": [],
   "source": [
    "rf_classifier = RandomForestClassifier()\n",
    "param_grid = {\n",
    "    \"random_state\": [5,10,20,30,40,50],\n",
    "    \"max_depth\": [2,5,10,20,50],\n",
    "    \"min_samples_split\": [2,5,10],\n",
    "    \"min_samples_leaf\": [1,2,4],\n",
    "    'n_estimators': [50, 100, 200],\n",
    "    'class_weight': ['balanced', None]\n",
    "}"
   ]
  },
  {
   "cell_type": "code",
   "execution_count": 29,
   "id": "2cee016e",
   "metadata": {},
   "outputs": [],
   "source": [
    "custom_scorer = make_scorer(accuracy_score)\n",
    "random_search = RandomizedSearchCV(estimator = rf_classifier, param_distributions = param_grid, cv = 3, scoring = custom_scorer)"
   ]
  },
  {
   "cell_type": "code",
   "execution_count": 30,
   "id": "bc882d05",
   "metadata": {},
   "outputs": [
    {
     "data": {
      "text/html": [
       "<style>#sk-container-id-1 {color: black;background-color: white;}#sk-container-id-1 pre{padding: 0;}#sk-container-id-1 div.sk-toggleable {background-color: white;}#sk-container-id-1 label.sk-toggleable__label {cursor: pointer;display: block;width: 100%;margin-bottom: 0;padding: 0.3em;box-sizing: border-box;text-align: center;}#sk-container-id-1 label.sk-toggleable__label-arrow:before {content: \"▸\";float: left;margin-right: 0.25em;color: #696969;}#sk-container-id-1 label.sk-toggleable__label-arrow:hover:before {color: black;}#sk-container-id-1 div.sk-estimator:hover label.sk-toggleable__label-arrow:before {color: black;}#sk-container-id-1 div.sk-toggleable__content {max-height: 0;max-width: 0;overflow: hidden;text-align: left;background-color: #f0f8ff;}#sk-container-id-1 div.sk-toggleable__content pre {margin: 0.2em;color: black;border-radius: 0.25em;background-color: #f0f8ff;}#sk-container-id-1 input.sk-toggleable__control:checked~div.sk-toggleable__content {max-height: 200px;max-width: 100%;overflow: auto;}#sk-container-id-1 input.sk-toggleable__control:checked~label.sk-toggleable__label-arrow:before {content: \"▾\";}#sk-container-id-1 div.sk-estimator input.sk-toggleable__control:checked~label.sk-toggleable__label {background-color: #d4ebff;}#sk-container-id-1 div.sk-label input.sk-toggleable__control:checked~label.sk-toggleable__label {background-color: #d4ebff;}#sk-container-id-1 input.sk-hidden--visually {border: 0;clip: rect(1px 1px 1px 1px);clip: rect(1px, 1px, 1px, 1px);height: 1px;margin: -1px;overflow: hidden;padding: 0;position: absolute;width: 1px;}#sk-container-id-1 div.sk-estimator {font-family: monospace;background-color: #f0f8ff;border: 1px dotted black;border-radius: 0.25em;box-sizing: border-box;margin-bottom: 0.5em;}#sk-container-id-1 div.sk-estimator:hover {background-color: #d4ebff;}#sk-container-id-1 div.sk-parallel-item::after {content: \"\";width: 100%;border-bottom: 1px solid gray;flex-grow: 1;}#sk-container-id-1 div.sk-label:hover label.sk-toggleable__label {background-color: #d4ebff;}#sk-container-id-1 div.sk-serial::before {content: \"\";position: absolute;border-left: 1px solid gray;box-sizing: border-box;top: 0;bottom: 0;left: 50%;z-index: 0;}#sk-container-id-1 div.sk-serial {display: flex;flex-direction: column;align-items: center;background-color: white;padding-right: 0.2em;padding-left: 0.2em;position: relative;}#sk-container-id-1 div.sk-item {position: relative;z-index: 1;}#sk-container-id-1 div.sk-parallel {display: flex;align-items: stretch;justify-content: center;background-color: white;position: relative;}#sk-container-id-1 div.sk-item::before, #sk-container-id-1 div.sk-parallel-item::before {content: \"\";position: absolute;border-left: 1px solid gray;box-sizing: border-box;top: 0;bottom: 0;left: 50%;z-index: -1;}#sk-container-id-1 div.sk-parallel-item {display: flex;flex-direction: column;z-index: 1;position: relative;background-color: white;}#sk-container-id-1 div.sk-parallel-item:first-child::after {align-self: flex-end;width: 50%;}#sk-container-id-1 div.sk-parallel-item:last-child::after {align-self: flex-start;width: 50%;}#sk-container-id-1 div.sk-parallel-item:only-child::after {width: 0;}#sk-container-id-1 div.sk-dashed-wrapped {border: 1px dashed gray;margin: 0 0.4em 0.5em 0.4em;box-sizing: border-box;padding-bottom: 0.4em;background-color: white;}#sk-container-id-1 div.sk-label label {font-family: monospace;font-weight: bold;display: inline-block;line-height: 1.2em;}#sk-container-id-1 div.sk-label-container {text-align: center;}#sk-container-id-1 div.sk-container {/* jupyter's `normalize.less` sets `[hidden] { display: none; }` but bootstrap.min.css set `[hidden] { display: none !important; }` so we also need the `!important` here to be able to override the default hidden behavior on the sphinx rendered scikit-learn.org. See: https://github.com/scikit-learn/scikit-learn/issues/21755 */display: inline-block !important;position: relative;}#sk-container-id-1 div.sk-text-repr-fallback {display: none;}</style><div id=\"sk-container-id-1\" class=\"sk-top-container\"><div class=\"sk-text-repr-fallback\"><pre>RandomizedSearchCV(cv=3, estimator=RandomForestClassifier(),\n",
       "                   param_distributions={&#x27;class_weight&#x27;: [&#x27;balanced&#x27;, None],\n",
       "                                        &#x27;max_depth&#x27;: [2, 5, 10, 20, 50],\n",
       "                                        &#x27;min_samples_leaf&#x27;: [1, 2, 4],\n",
       "                                        &#x27;min_samples_split&#x27;: [2, 5, 10],\n",
       "                                        &#x27;n_estimators&#x27;: [50, 100, 200],\n",
       "                                        &#x27;random_state&#x27;: [5, 10, 20, 30, 40,\n",
       "                                                         50]},\n",
       "                   scoring=make_scorer(accuracy_score))</pre><b>In a Jupyter environment, please rerun this cell to show the HTML representation or trust the notebook. <br />On GitHub, the HTML representation is unable to render, please try loading this page with nbviewer.org.</b></div><div class=\"sk-container\" hidden><div class=\"sk-item sk-dashed-wrapped\"><div class=\"sk-label-container\"><div class=\"sk-label sk-toggleable\"><input class=\"sk-toggleable__control sk-hidden--visually\" id=\"sk-estimator-id-1\" type=\"checkbox\" ><label for=\"sk-estimator-id-1\" class=\"sk-toggleable__label sk-toggleable__label-arrow\">RandomizedSearchCV</label><div class=\"sk-toggleable__content\"><pre>RandomizedSearchCV(cv=3, estimator=RandomForestClassifier(),\n",
       "                   param_distributions={&#x27;class_weight&#x27;: [&#x27;balanced&#x27;, None],\n",
       "                                        &#x27;max_depth&#x27;: [2, 5, 10, 20, 50],\n",
       "                                        &#x27;min_samples_leaf&#x27;: [1, 2, 4],\n",
       "                                        &#x27;min_samples_split&#x27;: [2, 5, 10],\n",
       "                                        &#x27;n_estimators&#x27;: [50, 100, 200],\n",
       "                                        &#x27;random_state&#x27;: [5, 10, 20, 30, 40,\n",
       "                                                         50]},\n",
       "                   scoring=make_scorer(accuracy_score))</pre></div></div></div><div class=\"sk-parallel\"><div class=\"sk-parallel-item\"><div class=\"sk-item\"><div class=\"sk-label-container\"><div class=\"sk-label sk-toggleable\"><input class=\"sk-toggleable__control sk-hidden--visually\" id=\"sk-estimator-id-2\" type=\"checkbox\" ><label for=\"sk-estimator-id-2\" class=\"sk-toggleable__label sk-toggleable__label-arrow\">estimator: RandomForestClassifier</label><div class=\"sk-toggleable__content\"><pre>RandomForestClassifier()</pre></div></div></div><div class=\"sk-serial\"><div class=\"sk-item\"><div class=\"sk-estimator sk-toggleable\"><input class=\"sk-toggleable__control sk-hidden--visually\" id=\"sk-estimator-id-3\" type=\"checkbox\" ><label for=\"sk-estimator-id-3\" class=\"sk-toggleable__label sk-toggleable__label-arrow\">RandomForestClassifier</label><div class=\"sk-toggleable__content\"><pre>RandomForestClassifier()</pre></div></div></div></div></div></div></div></div></div></div>"
      ],
      "text/plain": [
       "RandomizedSearchCV(cv=3, estimator=RandomForestClassifier(),\n",
       "                   param_distributions={'class_weight': ['balanced', None],\n",
       "                                        'max_depth': [2, 5, 10, 20, 50],\n",
       "                                        'min_samples_leaf': [1, 2, 4],\n",
       "                                        'min_samples_split': [2, 5, 10],\n",
       "                                        'n_estimators': [50, 100, 200],\n",
       "                                        'random_state': [5, 10, 20, 30, 40,\n",
       "                                                         50]},\n",
       "                   scoring=make_scorer(accuracy_score))"
      ]
     },
     "execution_count": 30,
     "metadata": {},
     "output_type": "execute_result"
    }
   ],
   "source": [
    "random_search.fit(X_train, y_train)"
   ]
  },
  {
   "cell_type": "code",
   "execution_count": 31,
   "id": "6f6008d2",
   "metadata": {},
   "outputs": [],
   "source": [
    "best_params = random_search.best_params_"
   ]
  },
  {
   "cell_type": "code",
   "execution_count": 32,
   "id": "b205a805",
   "metadata": {},
   "outputs": [],
   "source": [
    "best_model = random_search.best_estimator_"
   ]
  },
  {
   "cell_type": "code",
   "execution_count": 33,
   "id": "a64080a8",
   "metadata": {},
   "outputs": [
    {
     "name": "stdout",
     "output_type": "stream",
     "text": [
      "Accuracy: 0.7268041237113402\n"
     ]
    }
   ],
   "source": [
    "y_pred = best_model.predict(X_test)\n",
    "\n",
    "# Evaluate the model\n",
    "accuracy = accuracy_score(y_test, y_pred)\n",
    "print(\"Accuracy:\", accuracy)"
   ]
  },
  {
   "cell_type": "code",
   "execution_count": 34,
   "id": "a7d33860",
   "metadata": {},
   "outputs": [
    {
     "data": {
      "text/plain": [
       "{'random_state': 50,\n",
       " 'n_estimators': 200,\n",
       " 'min_samples_split': 10,\n",
       " 'min_samples_leaf': 1,\n",
       " 'max_depth': 5,\n",
       " 'class_weight': 'balanced'}"
      ]
     },
     "execution_count": 34,
     "metadata": {},
     "output_type": "execute_result"
    }
   ],
   "source": [
    "best_params"
   ]
  },
  {
   "cell_type": "code",
   "execution_count": 35,
   "id": "cfdda362",
   "metadata": {},
   "outputs": [],
   "source": [
    "rf_classifier_2 = RandomForestClassifier()\n",
    "param_grid_2 = {\n",
    "    \"random_state\": [20,25,30,35],\n",
    "    \"max_depth\": [15,20,25],\n",
    "    \"min_samples_split\": [5,10, 15],\n",
    "    \"min_samples_leaf\": [1,2,3],\n",
    "    'n_estimators': [150, 200, 250],\n",
    "    'class_weight': ['balanced', None]\n",
    "}"
   ]
  },
  {
   "cell_type": "code",
   "execution_count": 36,
   "id": "1ab51235",
   "metadata": {},
   "outputs": [],
   "source": [
    "random_search_2 = RandomizedSearchCV(estimator = rf_classifier_2, param_distributions = param_grid_2, cv = 3, scoring = custom_scorer)"
   ]
  },
  {
   "cell_type": "code",
   "execution_count": 37,
   "id": "27750205",
   "metadata": {},
   "outputs": [
    {
     "data": {
      "text/html": [
       "<style>#sk-container-id-2 {color: black;background-color: white;}#sk-container-id-2 pre{padding: 0;}#sk-container-id-2 div.sk-toggleable {background-color: white;}#sk-container-id-2 label.sk-toggleable__label {cursor: pointer;display: block;width: 100%;margin-bottom: 0;padding: 0.3em;box-sizing: border-box;text-align: center;}#sk-container-id-2 label.sk-toggleable__label-arrow:before {content: \"▸\";float: left;margin-right: 0.25em;color: #696969;}#sk-container-id-2 label.sk-toggleable__label-arrow:hover:before {color: black;}#sk-container-id-2 div.sk-estimator:hover label.sk-toggleable__label-arrow:before {color: black;}#sk-container-id-2 div.sk-toggleable__content {max-height: 0;max-width: 0;overflow: hidden;text-align: left;background-color: #f0f8ff;}#sk-container-id-2 div.sk-toggleable__content pre {margin: 0.2em;color: black;border-radius: 0.25em;background-color: #f0f8ff;}#sk-container-id-2 input.sk-toggleable__control:checked~div.sk-toggleable__content {max-height: 200px;max-width: 100%;overflow: auto;}#sk-container-id-2 input.sk-toggleable__control:checked~label.sk-toggleable__label-arrow:before {content: \"▾\";}#sk-container-id-2 div.sk-estimator input.sk-toggleable__control:checked~label.sk-toggleable__label {background-color: #d4ebff;}#sk-container-id-2 div.sk-label input.sk-toggleable__control:checked~label.sk-toggleable__label {background-color: #d4ebff;}#sk-container-id-2 input.sk-hidden--visually {border: 0;clip: rect(1px 1px 1px 1px);clip: rect(1px, 1px, 1px, 1px);height: 1px;margin: -1px;overflow: hidden;padding: 0;position: absolute;width: 1px;}#sk-container-id-2 div.sk-estimator {font-family: monospace;background-color: #f0f8ff;border: 1px dotted black;border-radius: 0.25em;box-sizing: border-box;margin-bottom: 0.5em;}#sk-container-id-2 div.sk-estimator:hover {background-color: #d4ebff;}#sk-container-id-2 div.sk-parallel-item::after {content: \"\";width: 100%;border-bottom: 1px solid gray;flex-grow: 1;}#sk-container-id-2 div.sk-label:hover label.sk-toggleable__label {background-color: #d4ebff;}#sk-container-id-2 div.sk-serial::before {content: \"\";position: absolute;border-left: 1px solid gray;box-sizing: border-box;top: 0;bottom: 0;left: 50%;z-index: 0;}#sk-container-id-2 div.sk-serial {display: flex;flex-direction: column;align-items: center;background-color: white;padding-right: 0.2em;padding-left: 0.2em;position: relative;}#sk-container-id-2 div.sk-item {position: relative;z-index: 1;}#sk-container-id-2 div.sk-parallel {display: flex;align-items: stretch;justify-content: center;background-color: white;position: relative;}#sk-container-id-2 div.sk-item::before, #sk-container-id-2 div.sk-parallel-item::before {content: \"\";position: absolute;border-left: 1px solid gray;box-sizing: border-box;top: 0;bottom: 0;left: 50%;z-index: -1;}#sk-container-id-2 div.sk-parallel-item {display: flex;flex-direction: column;z-index: 1;position: relative;background-color: white;}#sk-container-id-2 div.sk-parallel-item:first-child::after {align-self: flex-end;width: 50%;}#sk-container-id-2 div.sk-parallel-item:last-child::after {align-self: flex-start;width: 50%;}#sk-container-id-2 div.sk-parallel-item:only-child::after {width: 0;}#sk-container-id-2 div.sk-dashed-wrapped {border: 1px dashed gray;margin: 0 0.4em 0.5em 0.4em;box-sizing: border-box;padding-bottom: 0.4em;background-color: white;}#sk-container-id-2 div.sk-label label {font-family: monospace;font-weight: bold;display: inline-block;line-height: 1.2em;}#sk-container-id-2 div.sk-label-container {text-align: center;}#sk-container-id-2 div.sk-container {/* jupyter's `normalize.less` sets `[hidden] { display: none; }` but bootstrap.min.css set `[hidden] { display: none !important; }` so we also need the `!important` here to be able to override the default hidden behavior on the sphinx rendered scikit-learn.org. See: https://github.com/scikit-learn/scikit-learn/issues/21755 */display: inline-block !important;position: relative;}#sk-container-id-2 div.sk-text-repr-fallback {display: none;}</style><div id=\"sk-container-id-2\" class=\"sk-top-container\"><div class=\"sk-text-repr-fallback\"><pre>RandomizedSearchCV(cv=3, estimator=RandomForestClassifier(),\n",
       "                   param_distributions={&#x27;class_weight&#x27;: [&#x27;balanced&#x27;, None],\n",
       "                                        &#x27;max_depth&#x27;: [15, 20, 25],\n",
       "                                        &#x27;min_samples_leaf&#x27;: [1, 2, 3],\n",
       "                                        &#x27;min_samples_split&#x27;: [5, 10, 15],\n",
       "                                        &#x27;n_estimators&#x27;: [150, 200, 250],\n",
       "                                        &#x27;random_state&#x27;: [20, 25, 30, 35]},\n",
       "                   scoring=make_scorer(accuracy_score))</pre><b>In a Jupyter environment, please rerun this cell to show the HTML representation or trust the notebook. <br />On GitHub, the HTML representation is unable to render, please try loading this page with nbviewer.org.</b></div><div class=\"sk-container\" hidden><div class=\"sk-item sk-dashed-wrapped\"><div class=\"sk-label-container\"><div class=\"sk-label sk-toggleable\"><input class=\"sk-toggleable__control sk-hidden--visually\" id=\"sk-estimator-id-4\" type=\"checkbox\" ><label for=\"sk-estimator-id-4\" class=\"sk-toggleable__label sk-toggleable__label-arrow\">RandomizedSearchCV</label><div class=\"sk-toggleable__content\"><pre>RandomizedSearchCV(cv=3, estimator=RandomForestClassifier(),\n",
       "                   param_distributions={&#x27;class_weight&#x27;: [&#x27;balanced&#x27;, None],\n",
       "                                        &#x27;max_depth&#x27;: [15, 20, 25],\n",
       "                                        &#x27;min_samples_leaf&#x27;: [1, 2, 3],\n",
       "                                        &#x27;min_samples_split&#x27;: [5, 10, 15],\n",
       "                                        &#x27;n_estimators&#x27;: [150, 200, 250],\n",
       "                                        &#x27;random_state&#x27;: [20, 25, 30, 35]},\n",
       "                   scoring=make_scorer(accuracy_score))</pre></div></div></div><div class=\"sk-parallel\"><div class=\"sk-parallel-item\"><div class=\"sk-item\"><div class=\"sk-label-container\"><div class=\"sk-label sk-toggleable\"><input class=\"sk-toggleable__control sk-hidden--visually\" id=\"sk-estimator-id-5\" type=\"checkbox\" ><label for=\"sk-estimator-id-5\" class=\"sk-toggleable__label sk-toggleable__label-arrow\">estimator: RandomForestClassifier</label><div class=\"sk-toggleable__content\"><pre>RandomForestClassifier()</pre></div></div></div><div class=\"sk-serial\"><div class=\"sk-item\"><div class=\"sk-estimator sk-toggleable\"><input class=\"sk-toggleable__control sk-hidden--visually\" id=\"sk-estimator-id-6\" type=\"checkbox\" ><label for=\"sk-estimator-id-6\" class=\"sk-toggleable__label sk-toggleable__label-arrow\">RandomForestClassifier</label><div class=\"sk-toggleable__content\"><pre>RandomForestClassifier()</pre></div></div></div></div></div></div></div></div></div></div>"
      ],
      "text/plain": [
       "RandomizedSearchCV(cv=3, estimator=RandomForestClassifier(),\n",
       "                   param_distributions={'class_weight': ['balanced', None],\n",
       "                                        'max_depth': [15, 20, 25],\n",
       "                                        'min_samples_leaf': [1, 2, 3],\n",
       "                                        'min_samples_split': [5, 10, 15],\n",
       "                                        'n_estimators': [150, 200, 250],\n",
       "                                        'random_state': [20, 25, 30, 35]},\n",
       "                   scoring=make_scorer(accuracy_score))"
      ]
     },
     "execution_count": 37,
     "metadata": {},
     "output_type": "execute_result"
    }
   ],
   "source": [
    "random_search_2.fit(X_train, y_train)"
   ]
  },
  {
   "cell_type": "code",
   "execution_count": 38,
   "id": "0c476eed",
   "metadata": {},
   "outputs": [
    {
     "name": "stdout",
     "output_type": "stream",
     "text": [
      "Accuracy: 0.7309278350515463\n"
     ]
    }
   ],
   "source": [
    "best_params_2 = random_search_2.best_params_\n",
    "best_model_2 = random_search_2.best_estimator_\n",
    "y_pred_2 = best_model_2.predict(X_test)\n",
    "accuracy_2 = accuracy_score(y_test, y_pred_2)\n",
    "print(\"Accuracy:\", accuracy_2)"
   ]
  },
  {
   "cell_type": "code",
   "execution_count": 53,
   "id": "2dd74c4b",
   "metadata": {},
   "outputs": [
    {
     "data": {
      "text/plain": [
       "{'random_state': 20,\n",
       " 'n_estimators': 200,\n",
       " 'min_samples_split': 15,\n",
       " 'min_samples_leaf': 1,\n",
       " 'max_depth': 20,\n",
       " 'class_weight': 'balanced'}"
      ]
     },
     "execution_count": 53,
     "metadata": {},
     "output_type": "execute_result"
    }
   ],
   "source": [
    "best_params_2"
   ]
  },
  {
   "cell_type": "code",
   "execution_count": 39,
   "id": "833fd52d",
   "metadata": {},
   "outputs": [],
   "source": [
    "positive = embedding_df[embedding_df[\"Sentiment\"] == \"positive\"]\n",
    "neutral = embedding_df[embedding_df[\"Sentiment\"] == \"neutral\"]\n",
    "negative = embedding_df[embedding_df[\"Sentiment\"] == \"negative\"]"
   ]
  },
  {
   "cell_type": "code",
   "execution_count": 40,
   "id": "e3192230",
   "metadata": {},
   "outputs": [],
   "source": [
    "train_rows_each_class = min(positive.shape[0], neutral.shape[0], negative.shape[0])"
   ]
  },
  {
   "cell_type": "code",
   "execution_count": 41,
   "id": "ffc122b7",
   "metadata": {},
   "outputs": [],
   "source": [
    "train_positive = positive.sample(train_rows_each_class)\n",
    "train_neutral = neutral.sample(train_rows_each_class)\n",
    "train_negative = negative.sample(train_rows_each_class)"
   ]
  },
  {
   "cell_type": "code",
   "execution_count": 42,
   "id": "81bf2277",
   "metadata": {},
   "outputs": [
    {
     "data": {
      "text/plain": [
       "(1812, 385)"
      ]
     },
     "execution_count": 42,
     "metadata": {},
     "output_type": "execute_result"
    }
   ],
   "source": [
    "train = pd.concat([train_positive, train_neutral, train_negative], axis = 0)\n",
    "train.shape"
   ]
  },
  {
   "cell_type": "code",
   "execution_count": 43,
   "id": "08432061",
   "metadata": {},
   "outputs": [],
   "source": [
    "test = pd.concat([embedding_df, train]).drop_duplicates(keep=False)"
   ]
  },
  {
   "cell_type": "code",
   "execution_count": 44,
   "id": "28650b82",
   "metadata": {},
   "outputs": [
    {
     "data": {
      "text/plain": [
       "(3025, 385)"
      ]
     },
     "execution_count": 44,
     "metadata": {},
     "output_type": "execute_result"
    }
   ],
   "source": [
    "test.shape"
   ]
  },
  {
   "cell_type": "code",
   "execution_count": 45,
   "id": "bd809bf2",
   "metadata": {},
   "outputs": [],
   "source": [
    "#downsampling to understand class imbalance\n",
    "x_train = train.drop([\"Sentiment\"], axis = 1)\n",
    "Y_train = train[\"Sentiment\"]\n",
    "x_test = test.drop([\"Sentiment\"], axis = 1)\n",
    "Y_test = test[\"Sentiment\"]"
   ]
  },
  {
   "cell_type": "code",
   "execution_count": 46,
   "id": "ba2fbd7a",
   "metadata": {},
   "outputs": [],
   "source": [
    "rf_classifier_3 = RandomForestClassifier()\n",
    "param_grid_3 = {\n",
    "    \"random_state\": [20,25,30,35],\n",
    "    \"max_depth\": [15,20,25],\n",
    "    \"min_samples_split\": [5,10, 15],\n",
    "    \"min_samples_leaf\": [1,2,3],\n",
    "    'n_estimators': [150, 200, 250],\n",
    "    'class_weight': ['balanced', None]\n",
    "}"
   ]
  },
  {
   "cell_type": "code",
   "execution_count": 47,
   "id": "e82ad965",
   "metadata": {},
   "outputs": [],
   "source": [
    "random_search_3 = RandomizedSearchCV(estimator = rf_classifier_3, param_distributions = param_grid_3, cv = 5, scoring = custom_scorer)"
   ]
  },
  {
   "cell_type": "code",
   "execution_count": 48,
   "id": "01cbf4a0",
   "metadata": {},
   "outputs": [
    {
     "data": {
      "text/html": [
       "<style>#sk-container-id-3 {color: black;background-color: white;}#sk-container-id-3 pre{padding: 0;}#sk-container-id-3 div.sk-toggleable {background-color: white;}#sk-container-id-3 label.sk-toggleable__label {cursor: pointer;display: block;width: 100%;margin-bottom: 0;padding: 0.3em;box-sizing: border-box;text-align: center;}#sk-container-id-3 label.sk-toggleable__label-arrow:before {content: \"▸\";float: left;margin-right: 0.25em;color: #696969;}#sk-container-id-3 label.sk-toggleable__label-arrow:hover:before {color: black;}#sk-container-id-3 div.sk-estimator:hover label.sk-toggleable__label-arrow:before {color: black;}#sk-container-id-3 div.sk-toggleable__content {max-height: 0;max-width: 0;overflow: hidden;text-align: left;background-color: #f0f8ff;}#sk-container-id-3 div.sk-toggleable__content pre {margin: 0.2em;color: black;border-radius: 0.25em;background-color: #f0f8ff;}#sk-container-id-3 input.sk-toggleable__control:checked~div.sk-toggleable__content {max-height: 200px;max-width: 100%;overflow: auto;}#sk-container-id-3 input.sk-toggleable__control:checked~label.sk-toggleable__label-arrow:before {content: \"▾\";}#sk-container-id-3 div.sk-estimator input.sk-toggleable__control:checked~label.sk-toggleable__label {background-color: #d4ebff;}#sk-container-id-3 div.sk-label input.sk-toggleable__control:checked~label.sk-toggleable__label {background-color: #d4ebff;}#sk-container-id-3 input.sk-hidden--visually {border: 0;clip: rect(1px 1px 1px 1px);clip: rect(1px, 1px, 1px, 1px);height: 1px;margin: -1px;overflow: hidden;padding: 0;position: absolute;width: 1px;}#sk-container-id-3 div.sk-estimator {font-family: monospace;background-color: #f0f8ff;border: 1px dotted black;border-radius: 0.25em;box-sizing: border-box;margin-bottom: 0.5em;}#sk-container-id-3 div.sk-estimator:hover {background-color: #d4ebff;}#sk-container-id-3 div.sk-parallel-item::after {content: \"\";width: 100%;border-bottom: 1px solid gray;flex-grow: 1;}#sk-container-id-3 div.sk-label:hover label.sk-toggleable__label {background-color: #d4ebff;}#sk-container-id-3 div.sk-serial::before {content: \"\";position: absolute;border-left: 1px solid gray;box-sizing: border-box;top: 0;bottom: 0;left: 50%;z-index: 0;}#sk-container-id-3 div.sk-serial {display: flex;flex-direction: column;align-items: center;background-color: white;padding-right: 0.2em;padding-left: 0.2em;position: relative;}#sk-container-id-3 div.sk-item {position: relative;z-index: 1;}#sk-container-id-3 div.sk-parallel {display: flex;align-items: stretch;justify-content: center;background-color: white;position: relative;}#sk-container-id-3 div.sk-item::before, #sk-container-id-3 div.sk-parallel-item::before {content: \"\";position: absolute;border-left: 1px solid gray;box-sizing: border-box;top: 0;bottom: 0;left: 50%;z-index: -1;}#sk-container-id-3 div.sk-parallel-item {display: flex;flex-direction: column;z-index: 1;position: relative;background-color: white;}#sk-container-id-3 div.sk-parallel-item:first-child::after {align-self: flex-end;width: 50%;}#sk-container-id-3 div.sk-parallel-item:last-child::after {align-self: flex-start;width: 50%;}#sk-container-id-3 div.sk-parallel-item:only-child::after {width: 0;}#sk-container-id-3 div.sk-dashed-wrapped {border: 1px dashed gray;margin: 0 0.4em 0.5em 0.4em;box-sizing: border-box;padding-bottom: 0.4em;background-color: white;}#sk-container-id-3 div.sk-label label {font-family: monospace;font-weight: bold;display: inline-block;line-height: 1.2em;}#sk-container-id-3 div.sk-label-container {text-align: center;}#sk-container-id-3 div.sk-container {/* jupyter's `normalize.less` sets `[hidden] { display: none; }` but bootstrap.min.css set `[hidden] { display: none !important; }` so we also need the `!important` here to be able to override the default hidden behavior on the sphinx rendered scikit-learn.org. See: https://github.com/scikit-learn/scikit-learn/issues/21755 */display: inline-block !important;position: relative;}#sk-container-id-3 div.sk-text-repr-fallback {display: none;}</style><div id=\"sk-container-id-3\" class=\"sk-top-container\"><div class=\"sk-text-repr-fallback\"><pre>RandomizedSearchCV(cv=5, estimator=RandomForestClassifier(),\n",
       "                   param_distributions={&#x27;class_weight&#x27;: [&#x27;balanced&#x27;, None],\n",
       "                                        &#x27;max_depth&#x27;: [15, 20, 25],\n",
       "                                        &#x27;min_samples_leaf&#x27;: [1, 2, 3],\n",
       "                                        &#x27;min_samples_split&#x27;: [5, 10, 15],\n",
       "                                        &#x27;n_estimators&#x27;: [150, 200, 250],\n",
       "                                        &#x27;random_state&#x27;: [20, 25, 30, 35]},\n",
       "                   scoring=make_scorer(accuracy_score))</pre><b>In a Jupyter environment, please rerun this cell to show the HTML representation or trust the notebook. <br />On GitHub, the HTML representation is unable to render, please try loading this page with nbviewer.org.</b></div><div class=\"sk-container\" hidden><div class=\"sk-item sk-dashed-wrapped\"><div class=\"sk-label-container\"><div class=\"sk-label sk-toggleable\"><input class=\"sk-toggleable__control sk-hidden--visually\" id=\"sk-estimator-id-7\" type=\"checkbox\" ><label for=\"sk-estimator-id-7\" class=\"sk-toggleable__label sk-toggleable__label-arrow\">RandomizedSearchCV</label><div class=\"sk-toggleable__content\"><pre>RandomizedSearchCV(cv=5, estimator=RandomForestClassifier(),\n",
       "                   param_distributions={&#x27;class_weight&#x27;: [&#x27;balanced&#x27;, None],\n",
       "                                        &#x27;max_depth&#x27;: [15, 20, 25],\n",
       "                                        &#x27;min_samples_leaf&#x27;: [1, 2, 3],\n",
       "                                        &#x27;min_samples_split&#x27;: [5, 10, 15],\n",
       "                                        &#x27;n_estimators&#x27;: [150, 200, 250],\n",
       "                                        &#x27;random_state&#x27;: [20, 25, 30, 35]},\n",
       "                   scoring=make_scorer(accuracy_score))</pre></div></div></div><div class=\"sk-parallel\"><div class=\"sk-parallel-item\"><div class=\"sk-item\"><div class=\"sk-label-container\"><div class=\"sk-label sk-toggleable\"><input class=\"sk-toggleable__control sk-hidden--visually\" id=\"sk-estimator-id-8\" type=\"checkbox\" ><label for=\"sk-estimator-id-8\" class=\"sk-toggleable__label sk-toggleable__label-arrow\">estimator: RandomForestClassifier</label><div class=\"sk-toggleable__content\"><pre>RandomForestClassifier()</pre></div></div></div><div class=\"sk-serial\"><div class=\"sk-item\"><div class=\"sk-estimator sk-toggleable\"><input class=\"sk-toggleable__control sk-hidden--visually\" id=\"sk-estimator-id-9\" type=\"checkbox\" ><label for=\"sk-estimator-id-9\" class=\"sk-toggleable__label sk-toggleable__label-arrow\">RandomForestClassifier</label><div class=\"sk-toggleable__content\"><pre>RandomForestClassifier()</pre></div></div></div></div></div></div></div></div></div></div>"
      ],
      "text/plain": [
       "RandomizedSearchCV(cv=5, estimator=RandomForestClassifier(),\n",
       "                   param_distributions={'class_weight': ['balanced', None],\n",
       "                                        'max_depth': [15, 20, 25],\n",
       "                                        'min_samples_leaf': [1, 2, 3],\n",
       "                                        'min_samples_split': [5, 10, 15],\n",
       "                                        'n_estimators': [150, 200, 250],\n",
       "                                        'random_state': [20, 25, 30, 35]},\n",
       "                   scoring=make_scorer(accuracy_score))"
      ]
     },
     "execution_count": 48,
     "metadata": {},
     "output_type": "execute_result"
    }
   ],
   "source": [
    "random_search_3.fit(x_train, Y_train)"
   ]
  },
  {
   "cell_type": "code",
   "execution_count": 49,
   "id": "62db913f",
   "metadata": {},
   "outputs": [
    {
     "name": "stdout",
     "output_type": "stream",
     "text": [
      "Accuracy: 0.7150413223140496\n"
     ]
    }
   ],
   "source": [
    "best_params_3 = random_search_3.best_params_\n",
    "best_model_3 = random_search_3.best_estimator_\n",
    "y_pred_3 = best_model_3.predict(x_test)\n",
    "accuracy_3 = accuracy_score(Y_test, y_pred_3)\n",
    "print(\"Accuracy:\", accuracy_3)"
   ]
  },
  {
   "cell_type": "code",
   "execution_count": 52,
   "id": "b7c513bb",
   "metadata": {},
   "outputs": [
    {
     "data": {
      "text/plain": [
       "{'random_state': 20,\n",
       " 'n_estimators': 200,\n",
       " 'min_samples_split': 10,\n",
       " 'min_samples_leaf': 1,\n",
       " 'max_depth': 20,\n",
       " 'class_weight': 'balanced'}"
      ]
     },
     "execution_count": 52,
     "metadata": {},
     "output_type": "execute_result"
    }
   ],
   "source": [
    "best_params_3"
   ]
  },
  {
   "cell_type": "code",
   "execution_count": 50,
   "id": "d35af814",
   "metadata": {},
   "outputs": [],
   "source": [
    "#over_sampling using SMOTE\n",
    "from imblearn.over_sampling import SMOTE\n",
    "smote = SMOTE(random_state=42)"
   ]
  },
  {
   "cell_type": "code",
   "execution_count": 51,
   "id": "e9b627ea",
   "metadata": {},
   "outputs": [],
   "source": [
    "X_train_resampled, y_train_resampled = smote.fit_resample(X_train, y_train)"
   ]
  },
  {
   "cell_type": "code",
   "execution_count": 54,
   "id": "8d521aa7",
   "metadata": {},
   "outputs": [],
   "source": [
    "rf_classifier_4 = RandomForestClassifier(random_state = 20, n_estimators = 200, min_samples_split = 15, min_samples_leaf = 1, max_depth = 20,class_weight = 'balanced')"
   ]
  },
  {
   "cell_type": "code",
   "execution_count": 55,
   "id": "ca2699c9",
   "metadata": {},
   "outputs": [
    {
     "data": {
      "text/plain": [
       "(6924, 384)"
      ]
     },
     "execution_count": 55,
     "metadata": {},
     "output_type": "execute_result"
    }
   ],
   "source": [
    "X_train_resampled.shape"
   ]
  },
  {
   "cell_type": "code",
   "execution_count": 56,
   "id": "0e915446",
   "metadata": {},
   "outputs": [
    {
     "name": "stdout",
     "output_type": "stream",
     "text": [
      "Accuracy: 0.7670103092783506\n"
     ]
    }
   ],
   "source": [
    "rf_classifier_4.fit(X_train_resampled, y_train_resampled)\n",
    "y_pred_4 = rf_classifier_4.predict(X_test)\n",
    "accuracy_4 = accuracy_score(y_test, y_pred_4)\n",
    "print(\"Accuracy:\", accuracy_4)"
   ]
  },
  {
   "cell_type": "code",
   "execution_count": 61,
   "id": "78d09e11",
   "metadata": {},
   "outputs": [
    {
     "name": "stdout",
     "output_type": "stream",
     "text": [
      "Classification Report SMOTE\n",
      "              precision    recall  f1-score   support\n",
      "\n",
      "    negative       0.81      0.69      0.75       110\n",
      "     neutral       0.76      0.93      0.84       571\n",
      "    positive       0.77      0.47      0.59       289\n",
      "\n",
      "    accuracy                           0.77       970\n",
      "   macro avg       0.78      0.70      0.72       970\n",
      "weighted avg       0.77      0.77      0.75       970\n",
      "\n"
     ]
    }
   ],
   "source": [
    "print(\"Classification Report SMOTE\")\n",
    "print(classification_report(y_test, y_pred_4))"
   ]
  },
  {
   "cell_type": "code",
   "execution_count": 62,
   "id": "72a59753",
   "metadata": {},
   "outputs": [
    {
     "name": "stdout",
     "output_type": "stream",
     "text": [
      "Classification Report Downsampling\n",
      "              precision    recall  f1-score   support\n",
      "\n",
      "    negative       0.00      0.00      0.00         0\n",
      "     neutral       0.88      0.76      0.82      2266\n",
      "    positive       0.51      0.57      0.54       759\n",
      "\n",
      "    accuracy                           0.72      3025\n",
      "   macro avg       0.46      0.44      0.45      3025\n",
      "weighted avg       0.78      0.72      0.75      3025\n",
      "\n"
     ]
    },
    {
     "name": "stderr",
     "output_type": "stream",
     "text": [
      "/Users/raghavraahul/anaconda3/lib/python3.11/site-packages/sklearn/metrics/_classification.py:1344: UndefinedMetricWarning: Recall and F-score are ill-defined and being set to 0.0 in labels with no true samples. Use `zero_division` parameter to control this behavior.\n",
      "  _warn_prf(average, modifier, msg_start, len(result))\n",
      "/Users/raghavraahul/anaconda3/lib/python3.11/site-packages/sklearn/metrics/_classification.py:1344: UndefinedMetricWarning: Recall and F-score are ill-defined and being set to 0.0 in labels with no true samples. Use `zero_division` parameter to control this behavior.\n",
      "  _warn_prf(average, modifier, msg_start, len(result))\n",
      "/Users/raghavraahul/anaconda3/lib/python3.11/site-packages/sklearn/metrics/_classification.py:1344: UndefinedMetricWarning: Recall and F-score are ill-defined and being set to 0.0 in labels with no true samples. Use `zero_division` parameter to control this behavior.\n",
      "  _warn_prf(average, modifier, msg_start, len(result))\n"
     ]
    }
   ],
   "source": [
    "print(\"Classification Report Downsampling\")\n",
    "print(classification_report(Y_test, y_pred_3))"
   ]
  },
  {
   "cell_type": "code",
   "execution_count": 63,
   "id": "9fb1f11d",
   "metadata": {},
   "outputs": [
    {
     "name": "stdout",
     "output_type": "stream",
     "text": [
      "Classification Report (Random Forest with RandomizedSearchCV)\n",
      "              precision    recall  f1-score   support\n",
      "\n",
      "    negative       0.89      0.56      0.69       110\n",
      "     neutral       0.70      0.98      0.82       571\n",
      "    positive       0.83      0.31      0.45       289\n",
      "\n",
      "    accuracy                           0.73       970\n",
      "   macro avg       0.81      0.62      0.65       970\n",
      "weighted avg       0.76      0.73      0.69       970\n",
      "\n"
     ]
    }
   ],
   "source": [
    "print(\"Classification Report (Random Forest with RandomizedSearchCV)\")\n",
    "print(classification_report(y_test, y_pred_2))"
   ]
  },
  {
   "cell_type": "code",
   "execution_count": 65,
   "id": "df3bba7f",
   "metadata": {},
   "outputs": [],
   "source": [
    "from sklearn.metrics import confusion_matrix"
   ]
  },
  {
   "cell_type": "code",
   "execution_count": 66,
   "id": "b9809a55",
   "metadata": {},
   "outputs": [
    {
     "data": {
      "text/plain": [
       "array([[ 62,  42,   6],\n",
       "       [  2, 557,  12],\n",
       "       [  6, 193,  90]])"
      ]
     },
     "execution_count": 66,
     "metadata": {},
     "output_type": "execute_result"
    }
   ],
   "source": [
    "confusion_matrix(y_test, y_pred_2)"
   ]
  },
  {
   "cell_type": "code",
   "execution_count": 67,
   "id": "f4bb82dc",
   "metadata": {},
   "outputs": [
    {
     "data": {
      "text/plain": [
       "array([[ 76,  25,   9],\n",
       "       [  9, 531,  31],\n",
       "       [  9, 143, 137]])"
      ]
     },
     "execution_count": 67,
     "metadata": {},
     "output_type": "execute_result"
    }
   ],
   "source": [
    "confusion_matrix(y_test, y_pred_4)"
   ]
  },
  {
   "cell_type": "code",
   "execution_count": 69,
   "id": "5f1a2778",
   "metadata": {},
   "outputs": [
    {
     "data": {
      "text/plain": [
       "0.7670103092783506"
      ]
     },
     "execution_count": 69,
     "metadata": {},
     "output_type": "execute_result"
    }
   ],
   "source": [
    "accuracy_score(y_test, y_pred_4)"
   ]
  },
  {
   "cell_type": "code",
   "execution_count": null,
   "id": "bcc2ff6e",
   "metadata": {},
   "outputs": [],
   "source": []
  }
 ],
 "metadata": {
  "kernelspec": {
   "display_name": "Python 3 (ipykernel)",
   "language": "python",
   "name": "python3"
  },
  "language_info": {
   "codemirror_mode": {
    "name": "ipython",
    "version": 3
   },
   "file_extension": ".py",
   "mimetype": "text/x-python",
   "name": "python",
   "nbconvert_exporter": "python",
   "pygments_lexer": "ipython3",
   "version": "3.11.3"
  }
 },
 "nbformat": 4,
 "nbformat_minor": 5
}
